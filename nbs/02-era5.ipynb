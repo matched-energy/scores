{
 "cells": [
  {
   "cell_type": "code",
   "execution_count": null,
   "metadata": {},
   "outputs": [],
   "source": []
  },
  {
   "cell_type": "code",
   "execution_count": 16,
   "metadata": {},
   "outputs": [],
   "source": [
    "import os\n",
    "import re\n",
    "import json\n",
    "import requests\n",
    "from itertools import islice\n",
    "\n",
    "import pandas as pd\n",
    "import xarray as xr\n",
    "from tqdm import tqdm\n",
    "import seaborn as sns\n",
    "import matplotlib.pyplot as plt\n",
    "import geopandas as gpd\n",
    "from shapely.geometry import Point\n",
    "from sqlmodel import SQLModel, Session, create_engine\n",
    "\n",
    "from matched.db.tables import Rego, Ro, ERA5Derived\n",
    "from matched.db.utils import read_table, bulk_upsert_records"
   ]
  },
  {
   "cell_type": "code",
   "execution_count": null,
   "metadata": {},
   "outputs": [],
   "source": []
  },
  {
   "cell_type": "code",
   "execution_count": 2,
   "metadata": {},
   "outputs": [],
   "source": [
    "engine = create_engine(f\"sqlite:///../data/matched.db\")"
   ]
  },
  {
   "cell_type": "code",
   "execution_count": null,
   "metadata": {},
   "outputs": [],
   "source": []
  },
  {
   "cell_type": "code",
   "execution_count": 3,
   "metadata": {},
   "outputs": [
    {
     "data": {
      "text/plain": [
       "['accredited_stations_2023_01.csv',\n",
       " 'accredited_stations_2023_02.csv',\n",
       " 'accredited_stations_2023_03.csv',\n",
       " 'accredited_stations_2023_04.csv',\n",
       " 'accredited_stations_2023_05.csv',\n",
       " 'accredited_stations_2023_06.csv',\n",
       " 'accredited_stations_2023_07.csv',\n",
       " 'accredited_stations_2023_08.csv',\n",
       " 'accredited_stations_2023_09.csv',\n",
       " 'accredited_stations_2023_10.csv',\n",
       " 'accredited_stations_2023_11.csv',\n",
       " 'accredited_stations_2023_12.csv']"
      ]
     },
     "execution_count": 3,
     "metadata": {},
     "output_type": "execute_result"
    }
   ],
   "source": [
    "data_dir = '../data/rego_generators'\n",
    "\n",
    "files = os.listdir(data_dir)\n",
    "\n",
    "annual_files = sorted([f for f in files if f[-7]!='_'])\n",
    "monthly_files = sorted(list(set(files)-set(annual_files)))\n",
    "\n",
    "monthly_files"
   ]
  },
  {
   "cell_type": "code",
   "execution_count": null,
   "metadata": {},
   "outputs": [],
   "source": []
  },
  {
   "cell_type": "code",
   "execution_count": 4,
   "metadata": {},
   "outputs": [],
   "source": [
    "bad_dates = {\n",
    "    '16/12/2009\\n\\r22/12/2009': '22/12/2009',\n",
    "    '21/01/2010\\n\\r26/01/2010': '26/01/2010',\n",
    "    '22/03/2010\\n\\r22/03/2010': '22/03/2010',\n",
    "}\n",
    "\n",
    "for file in annual_files:\n",
    "    year = int(file[-8:-4])\n",
    "\n",
    "    if year in [\n",
    "        2003,  # 2004, 2005, 2006, 2007, 2008, 20\n",
    "        2008,  # 2009, 2010\n",
    "        2009,  # 2008, 2010\n",
    "        2010,  # 2008, 2009, 2011\n",
    "        2011,  # 2008, 2010, 2012, 2020\n",
    "        2012,  # 2008, 2009, 2011\n",
    "        2013,  # 2008, 2009, 2011, 2012, 2016, 2017\n",
    "        2014,  # 2008, 2012, 2013, 2015, 2016\n",
    "        2015,  # 2008, 2009, 2012, 2013, 2014, 2016, 2021\n",
    "        2016,  # 2008, 2012, 2013, 2014, 2015, 2017\n",
    "        2017,  # 2008, 2015, 2016, 2018\n",
    "        2018,  # 2015, 2016, 2017\n",
    "        2019,  # 2017, 2018, 2021\n",
    "        2020,  # 2008, 2014, 2015, 2016, 2019\n",
    "        2021,  # 2008, 2016, 2019, 2020\n",
    "        2022,  # 2013, 2015, 2016, 2019, 2020\n",
    "    ]:\n",
    "        continue\n",
    "\n",
    "    df = pd.read_csv(f'{data_dir}/{file}')\n",
    "    df['AccreditationDate'] = pd.to_datetime(df['AccreditationDate'].replace(bad_dates), format='%d/%m/%Y')\n",
    "\n",
    "    year_counts = df['AccreditationDate'].dt.year.value_counts().sort_index()\n",
    "    assert year_counts.shape[0] == 1, f'file {file} has more than one year'\n",
    "    assert year_counts.index[0] == year, f'file {file} has month {year_counts.index[0]}'"
   ]
  },
  {
   "cell_type": "code",
   "execution_count": null,
   "metadata": {},
   "outputs": [],
   "source": []
  },
  {
   "cell_type": "code",
   "execution_count": 5,
   "metadata": {},
   "outputs": [],
   "source": [
    "for file in monthly_files:\n",
    "    month = int(file[-6:-4])\n",
    "\n",
    "    if month in [\n",
    "        3,  # 2015-07-17\n",
    "        4,  # 2023-08-16, 2023-03-16\n",
    "        8,  # 2023-11-28\n",
    "        9,  # 2023-10-09\n",
    "        10, # 2023-12-13\n",
    "        11, # 2024-04-26\n",
    "    ]:\n",
    "        continue\n",
    "\n",
    "    df = pd.read_csv(f'{data_dir}/{file}')\n",
    "    df['AccreditationDate'] = pd.to_datetime(df['AccreditationDate'], format='%d/%m/%Y')\n",
    "\n",
    "    year_counts = df['AccreditationDate'].dt.year.value_counts()\n",
    "    month_counts = df['AccreditationDate'].dt.month.value_counts()\n",
    "    assert year_counts.shape[0] == 1, f'file {file} has more than one year'\n",
    "    assert year_counts.index[0] == 2023, f'file {file} has month {year_counts.index[0]}'\n",
    "    assert month_counts.shape[0] == 1, f'file {file} has more than one month'\n",
    "    assert month_counts.index[0] == month, f'file {file} has month {month_counts.index[0]}'"
   ]
  },
  {
   "cell_type": "code",
   "execution_count": null,
   "metadata": {},
   "outputs": [],
   "source": []
  },
  {
   "cell_type": "code",
   "execution_count": 6,
   "metadata": {},
   "outputs": [
    {
     "name": "stdout",
     "output_type": "stream",
     "text": [
      "(131103, 14)\n"
     ]
    },
    {
     "data": {
      "text/html": [
       "<div>\n",
       "<style scoped>\n",
       "    .dataframe tbody tr th:only-of-type {\n",
       "        vertical-align: middle;\n",
       "    }\n",
       "\n",
       "    .dataframe tbody tr th {\n",
       "        vertical-align: top;\n",
       "    }\n",
       "\n",
       "    .dataframe thead th {\n",
       "        text-align: right;\n",
       "    }\n",
       "</style>\n",
       "<table border=\"1\" class=\"dataframe\">\n",
       "  <thead>\n",
       "    <tr style=\"text-align: right;\">\n",
       "      <th></th>\n",
       "      <th>GeneratorID</th>\n",
       "      <th>StatusName</th>\n",
       "      <th>GeneratorName</th>\n",
       "      <th>SchemeName</th>\n",
       "      <th>Capacity</th>\n",
       "      <th>Country</th>\n",
       "      <th>TechnologyName</th>\n",
       "      <th>OutputType</th>\n",
       "      <th>AccreditationDate</th>\n",
       "      <th>CommissionDate</th>\n",
       "      <th>textbox6</th>\n",
       "      <th>textbox61</th>\n",
       "      <th>FaxNumber</th>\n",
       "      <th>textbox65</th>\n",
       "    </tr>\n",
       "  </thead>\n",
       "  <tbody>\n",
       "    <tr>\n",
       "      <th>0</th>\n",
       "      <td>G02583NWSC</td>\n",
       "      <td>Live</td>\n",
       "      <td>Emly Bank RO</td>\n",
       "      <td>REGO</td>\n",
       "      <td>15000.0</td>\n",
       "      <td>Scotland</td>\n",
       "      <td>Wind</td>\n",
       "      <td>General</td>\n",
       "      <td>01/09/2002</td>\n",
       "      <td>01/09/2002</td>\n",
       "      <td>ECRGEN</td>\n",
       "      <td>RWE Renewables UK Limited\\rWindmill Hill Busin...</td>\n",
       "      <td>NaN</td>\n",
       "      <td>Bowbeat Emly Bank\\rEngine Road\\rGorebridge\\rEH...</td>\n",
       "    </tr>\n",
       "    <tr>\n",
       "      <th>1</th>\n",
       "      <td>G00189LGWA</td>\n",
       "      <td>Live</td>\n",
       "      <td>Ferry Road</td>\n",
       "      <td>REGO</td>\n",
       "      <td>57.5</td>\n",
       "      <td>Wales</td>\n",
       "      <td>Landfill Gas (REGO code = LG)</td>\n",
       "      <td>General</td>\n",
       "      <td>01/04/2002</td>\n",
       "      <td>01/12/1999</td>\n",
       "      <td>Renewable Power Systems</td>\n",
       "      <td>Unit 11\\rBedford Business Centre\\rMile Road  B...</td>\n",
       "      <td>NaN</td>\n",
       "      <td>Ferry Road\\rGrangetown\\rCardiff\\rCF11 0JR\\rWales</td>\n",
       "    </tr>\n",
       "    <tr>\n",
       "      <th>2</th>\n",
       "      <td>G01335SGEN</td>\n",
       "      <td>Live</td>\n",
       "      <td>Stoke Bardolph STW - Dual Fuel</td>\n",
       "      <td>REGO</td>\n",
       "      <td>3067.0</td>\n",
       "      <td>England</td>\n",
       "      <td>Sewage gas (REGO code = SG)</td>\n",
       "      <td>General</td>\n",
       "      <td>01/04/2002</td>\n",
       "      <td>01/05/1999</td>\n",
       "      <td>Severn Trent Water Ltd</td>\n",
       "      <td>Severn Trent Water Ltd\\rWanlip STW\\rFillingate...</td>\n",
       "      <td>NaN</td>\n",
       "      <td>Stoke Bardolph STW\\rStoke Lane\\rBurton Joyce\\r...</td>\n",
       "    </tr>\n",
       "    <tr>\n",
       "      <th>0</th>\n",
       "      <td>G00276HYSC</td>\n",
       "      <td>Live</td>\n",
       "      <td>Achanalt Power Station - A</td>\n",
       "      <td>REGO</td>\n",
       "      <td>3100.0</td>\n",
       "      <td>Scotland</td>\n",
       "      <td>Hydro</td>\n",
       "      <td>General</td>\n",
       "      <td>27/10/2003</td>\n",
       "      <td>01/01/1956</td>\n",
       "      <td>SSE Generation Ltd</td>\n",
       "      <td>Scottish Hydro Electric plc\\rInveralmond House...</td>\n",
       "      <td>NaN</td>\n",
       "      <td>Achanalt Power Station\\rAchanalt Power Station...</td>\n",
       "    </tr>\n",
       "    <tr>\n",
       "      <th>1</th>\n",
       "      <td>G00816HYSC</td>\n",
       "      <td>Live</td>\n",
       "      <td>Acharn Hydro</td>\n",
       "      <td>REGO</td>\n",
       "      <td>380.0</td>\n",
       "      <td>Scotland</td>\n",
       "      <td>Hydro</td>\n",
       "      <td>General</td>\n",
       "      <td>27/10/2003</td>\n",
       "      <td>01/12/1992</td>\n",
       "      <td>Acharn Hydro Ltd</td>\n",
       "      <td>Remony Estate Partnership\\rRemony House\\rABERF...</td>\n",
       "      <td>NaN</td>\n",
       "      <td>Acharn Hydro\\rRemony EstateAcharnAberfeldyPert...</td>\n",
       "    </tr>\n",
       "  </tbody>\n",
       "</table>\n",
       "</div>"
      ],
      "text/plain": [
       "  GeneratorID StatusName                   GeneratorName SchemeName  Capacity  \\\n",
       "0  G02583NWSC       Live                    Emly Bank RO       REGO   15000.0   \n",
       "1  G00189LGWA       Live                      Ferry Road       REGO      57.5   \n",
       "2  G01335SGEN       Live  Stoke Bardolph STW - Dual Fuel       REGO    3067.0   \n",
       "0  G00276HYSC       Live      Achanalt Power Station - A       REGO    3100.0   \n",
       "1  G00816HYSC       Live                   Acharn Hydro        REGO     380.0   \n",
       "\n",
       "    Country                 TechnologyName OutputType AccreditationDate  \\\n",
       "0  Scotland                           Wind    General        01/09/2002   \n",
       "1     Wales  Landfill Gas (REGO code = LG)    General        01/04/2002   \n",
       "2   England    Sewage gas (REGO code = SG)    General        01/04/2002   \n",
       "0  Scotland                          Hydro    General        27/10/2003   \n",
       "1  Scotland                          Hydro    General        27/10/2003   \n",
       "\n",
       "  CommissionDate                 textbox6  \\\n",
       "0     01/09/2002                   ECRGEN   \n",
       "1     01/12/1999  Renewable Power Systems   \n",
       "2     01/05/1999   Severn Trent Water Ltd   \n",
       "0     01/01/1956       SSE Generation Ltd   \n",
       "1     01/12/1992         Acharn Hydro Ltd   \n",
       "\n",
       "                                           textbox61 FaxNumber  \\\n",
       "0  RWE Renewables UK Limited\\rWindmill Hill Busin...       NaN   \n",
       "1  Unit 11\\rBedford Business Centre\\rMile Road  B...       NaN   \n",
       "2  Severn Trent Water Ltd\\rWanlip STW\\rFillingate...       NaN   \n",
       "0  Scottish Hydro Electric plc\\rInveralmond House...       NaN   \n",
       "1  Remony Estate Partnership\\rRemony House\\rABERF...       NaN   \n",
       "\n",
       "                                           textbox65  \n",
       "0  Bowbeat Emly Bank\\rEngine Road\\rGorebridge\\rEH...  \n",
       "1   Ferry Road\\rGrangetown\\rCardiff\\rCF11 0JR\\rWales  \n",
       "2  Stoke Bardolph STW\\rStoke Lane\\rBurton Joyce\\r...  \n",
       "0  Achanalt Power Station\\rAchanalt Power Station...  \n",
       "1  Acharn Hydro\\rRemony EstateAcharnAberfeldyPert...  "
      ]
     },
     "execution_count": 6,
     "metadata": {},
     "output_type": "execute_result"
    }
   ],
   "source": [
    "df_rego_generators = pd.concat([pd.read_csv(f'{data_dir}/{file}') for file in sorted(files)])\n",
    "\n",
    "print(df_rego_generators.shape)\n",
    "df_rego_generators.head()"
   ]
  },
  {
   "cell_type": "code",
   "execution_count": null,
   "metadata": {},
   "outputs": [],
   "source": []
  },
  {
   "cell_type": "code",
   "execution_count": 7,
   "metadata": {},
   "outputs": [
    {
     "data": {
      "text/plain": [
       "GeneratorID           object\n",
       "StatusName            object\n",
       "GeneratorName         object\n",
       "SchemeName            object\n",
       "Capacity             float64\n",
       "Country               object\n",
       "TechnologyName        object\n",
       "OutputType            object\n",
       "AccreditationDate     object\n",
       "CommissionDate        object\n",
       "textbox6              object\n",
       "textbox61             object\n",
       "FaxNumber             object\n",
       "textbox65             object\n",
       "dtype: object"
      ]
     },
     "execution_count": 7,
     "metadata": {},
     "output_type": "execute_result"
    }
   ],
   "source": [
    "df_rego_generators.dtypes"
   ]
  },
  {
   "cell_type": "code",
   "execution_count": null,
   "metadata": {},
   "outputs": [],
   "source": []
  },
  {
   "cell_type": "code",
   "execution_count": 8,
   "metadata": {},
   "outputs": [
    {
     "name": "stdout",
     "output_type": "stream",
     "text": [
      "0.00          0.00\n",
      "0.01          1.00\n",
      "0.25          3.09\n",
      "0.50          3.47\n",
      "0.75          3.69\n",
      "0.99       4512.00\n",
      "1.00    3865000.00\n",
      "Name: Capacity, dtype: float64\n"
     ]
    },
    {
     "data": {
      "text/plain": [
       "<Axes: xlabel='Capacity', ylabel='Count'>"
      ]
     },
     "execution_count": 8,
     "metadata": {},
     "output_type": "execute_result"
    },
    {
     "data": {
      "image/png": "[encoded data removed]",
      "text/plain": [
       "<Figure size 640x480 with 1 Axes>"
      ]
     },
     "metadata": {},
     "output_type": "display_data"
    }
   ],
   "source": [
    "s_quantiles = df_rego_generators['Capacity'].quantile([0, 0.01, 0.25, 0.5, 0.75, 0.99, 1])\n",
    "print(s_quantiles)\n",
    "\n",
    "s_filtered_generators = df_rego_generators.loc[(\n",
    "    (df_rego_generators['Capacity']<s_quantiles.loc[0.99]) & \n",
    "    (df_rego_generators['Capacity']>500)\n",
    "), 'Capacity']\n",
    "\n",
    "sns.histplot(s_filtered_generators, binwidth=50)"
   ]
  },
  {
   "cell_type": "code",
   "execution_count": null,
   "metadata": {},
   "outputs": [],
   "source": []
  },
  {
   "cell_type": "code",
   "execution_count": 9,
   "metadata": {},
   "outputs": [
    {
     "data": {
      "text/plain": [
       "GeneratorID\n",
       "G02583NWSC    EH23 4AE\n",
       "G00189LGWA    CF11 0JR\n",
       "G01335SGEN    NG14 5HL\n",
       "G00276HYSC    IV23 2QD\n",
       "G00816HYSC    PH15 2HR\n",
       "                ...   \n",
       "G01710NWWA    NP23 5SD\n",
       "G24237PVEN    PE14 0LX\n",
       "G24253PVEN    YO42 4PW\n",
       "G00783MWSC     FK3 8XG\n",
       "G24228PVEN    PE12 9TF\n",
       "Name: textbox65, Length: 9727, dtype: object"
      ]
     },
     "execution_count": 9,
     "metadata": {},
     "output_type": "execute_result"
    }
   ],
   "source": [
    "def extract_postcode(address):\n",
    "    postcode_pattern = re.compile(r'\\b[A-Z]{1,2}\\d[A-Z\\d]? \\d[A-Z]{2}\\b')\n",
    "    match = postcode_pattern.search(address)\n",
    "    return match.group(0) if match else None\n",
    "\n",
    "s_postcodes = df_rego_generators.set_index('GeneratorID')['textbox65'].dropna().apply(extract_postcode)\n",
    "\n",
    "s_postcodes"
   ]
  },
  {
   "cell_type": "code",
   "execution_count": null,
   "metadata": {},
   "outputs": [],
   "source": []
  },
  {
   "cell_type": "code",
   "execution_count": 11,
   "metadata": {},
   "outputs": [
    {
     "name": "stderr",
     "output_type": "stream",
     "text": [
      "98it [00:28,  3.40it/s]                        "
     ]
    },
    {
     "name": "stdout",
     "output_type": "stream",
     "text": [
      "9047\n"
     ]
    },
    {
     "name": "stderr",
     "output_type": "stream",
     "text": [
      "\n"
     ]
    },
    {
     "data": {
      "text/plain": [
       "[{'query': 'EH23 4AE',\n",
       "  'result': {'postcode': 'EH23 4AE',\n",
       "   'longitude': -3.059807,\n",
       "   'latitude': 55.847396}},\n",
       " {'query': 'CF11 0JR',\n",
       "  'result': {'postcode': 'CF11 0JR',\n",
       "   'longitude': -3.185708,\n",
       "   'latitude': 51.457292}},\n",
       " {'query': 'NG14 5HL',\n",
       "  'result': {'postcode': 'NG14 5HL',\n",
       "   'longitude': -1.055149,\n",
       "   'latitude': 52.971041}},\n",
       " {'query': 'IV23 2QD',\n",
       "  'result': {'postcode': 'IV23 2QD',\n",
       "   'longitude': -4.938962,\n",
       "   'latitude': 57.609723}},\n",
       " {'query': 'PH15 2HR',\n",
       "  'result': {'postcode': 'PH15 2HR',\n",
       "   'longitude': -4.017407,\n",
       "   'latitude': 56.570426}}]"
      ]
     },
     "execution_count": 11,
     "metadata": {},
     "output_type": "execute_result"
    }
   ],
   "source": [
    "def chunked_iterable(iterable, size):\n",
    "    \"\"\"Helper function to split iterable into chunks of specified size.\"\"\"\n",
    "    it = iter(iterable)\n",
    "    return iter(lambda: tuple(islice(it, size)), ())\n",
    "\n",
    "def bulk_postcode_lookup(postcodes, filters=None):\n",
    "    results = []\n",
    "    url = \"https://api.postcodes.io/postcodes\"\n",
    "    headers = {\"Content-Type\": \"application/json\"}\n",
    "    \n",
    "    for chunk in tqdm(chunked_iterable(postcodes, 100), total=len(postcodes)//100):\n",
    "        if filters:\n",
    "            request_url = f\"{url}?filter={filters}\"\n",
    "        else:\n",
    "            request_url = url\n",
    "        \n",
    "        response = requests.post(request_url, headers=headers, data=json.dumps({\"postcodes\": chunk}))\n",
    "        \n",
    "        if response.status_code == 200:\n",
    "            results.extend(response.json().get(\"result\", []))\n",
    "        else:\n",
    "            return {\"error\": f\"Request failed with status code {response.status_code}\"}\n",
    "    \n",
    "    return results\n",
    "\n",
    "filters = \"postcode,longitude,latitude\"\n",
    "result = bulk_postcode_lookup(list(s_postcodes.values), filters)\n",
    "\n",
    "print(len(result))\n",
    "result[:5]"
   ]
  },
  {
   "cell_type": "code",
   "execution_count": null,
   "metadata": {},
   "outputs": [],
   "source": []
  },
  {
   "cell_type": "code",
   "execution_count": 12,
   "metadata": {},
   "outputs": [
    {
     "data": {
      "text/plain": [
       "<Axes: >"
      ]
     },
     "execution_count": 12,
     "metadata": {},
     "output_type": "execute_result"
    },
    {
     "data": {
      "image/png": "[encoded data removed]",
      "text/plain": [
       "<Figure size 640x480 with 1 Axes>"
      ]
     },
     "metadata": {},
     "output_type": "display_data"
    }
   ],
   "source": [
    "df = pd.DataFrame([item['result'] for item in result if item['result'] is not None])\n",
    "gdf = gpd.GeoDataFrame(df, geometry=gpd.points_from_xy(df.longitude, df.latitude))\n",
    "\n",
    "gdf.plot()"
   ]
  },
  {
   "cell_type": "code",
   "execution_count": null,
   "metadata": {},
   "outputs": [],
   "source": []
  },
  {
   "cell_type": "code",
   "execution_count": 13,
   "metadata": {},
   "outputs": [
    {
     "name": "stderr",
     "output_type": "stream",
     "text": [
      "8873it [04:52, 30.30it/s]\n"
     ]
    },
    {
     "data": {
      "text/html": [
       "<div>\n",
       "<style scoped>\n",
       "    .dataframe tbody tr th:only-of-type {\n",
       "        vertical-align: middle;\n",
       "    }\n",
       "\n",
       "    .dataframe tbody tr th {\n",
       "        vertical-align: top;\n",
       "    }\n",
       "\n",
       "    .dataframe thead th {\n",
       "        text-align: right;\n",
       "    }\n",
       "</style>\n",
       "<table border=\"1\" class=\"dataframe\">\n",
       "  <thead>\n",
       "    <tr style=\"text-align: right;\">\n",
       "      <th></th>\n",
       "      <th>u100</th>\n",
       "      <th>v100</th>\n",
       "      <th>u10</th>\n",
       "      <th>v10</th>\n",
       "      <th>t2m</th>\n",
       "      <th>latitude</th>\n",
       "      <th>longitude</th>\n",
       "    </tr>\n",
       "    <tr>\n",
       "      <th>time</th>\n",
       "      <th></th>\n",
       "      <th></th>\n",
       "      <th></th>\n",
       "      <th></th>\n",
       "      <th></th>\n",
       "      <th></th>\n",
       "      <th></th>\n",
       "    </tr>\n",
       "  </thead>\n",
       "  <tbody>\n",
       "    <tr>\n",
       "      <th>2023-01-01 00:00:00</th>\n",
       "      <td>-6.124319</td>\n",
       "      <td>-3.505972</td>\n",
       "      <td>-3.560769</td>\n",
       "      <td>-2.348238</td>\n",
       "      <td>276.145746</td>\n",
       "      <td>55.847396</td>\n",
       "      <td>-3.059807</td>\n",
       "    </tr>\n",
       "    <tr>\n",
       "      <th>2023-01-01 01:00:00</th>\n",
       "      <td>-6.742890</td>\n",
       "      <td>-2.875081</td>\n",
       "      <td>-3.877618</td>\n",
       "      <td>-1.970390</td>\n",
       "      <td>276.423940</td>\n",
       "      <td>55.847396</td>\n",
       "      <td>-3.059807</td>\n",
       "    </tr>\n",
       "    <tr>\n",
       "      <th>2023-01-01 02:00:00</th>\n",
       "      <td>-7.046638</td>\n",
       "      <td>-2.222430</td>\n",
       "      <td>-4.302080</td>\n",
       "      <td>-1.537414</td>\n",
       "      <td>276.582922</td>\n",
       "      <td>55.847396</td>\n",
       "      <td>-3.059807</td>\n",
       "    </tr>\n",
       "    <tr>\n",
       "      <th>2023-01-01 03:00:00</th>\n",
       "      <td>-6.909157</td>\n",
       "      <td>-2.214752</td>\n",
       "      <td>-4.244857</td>\n",
       "      <td>-1.446608</td>\n",
       "      <td>276.669096</td>\n",
       "      <td>55.847396</td>\n",
       "      <td>-3.059807</td>\n",
       "    </tr>\n",
       "    <tr>\n",
       "      <th>2023-01-01 04:00:00</th>\n",
       "      <td>-6.288494</td>\n",
       "      <td>-1.625808</td>\n",
       "      <td>-3.841061</td>\n",
       "      <td>-1.031566</td>\n",
       "      <td>276.455792</td>\n",
       "      <td>55.847396</td>\n",
       "      <td>-3.059807</td>\n",
       "    </tr>\n",
       "    <tr>\n",
       "      <th>...</th>\n",
       "      <td>...</td>\n",
       "      <td>...</td>\n",
       "      <td>...</td>\n",
       "      <td>...</td>\n",
       "      <td>...</td>\n",
       "      <td>...</td>\n",
       "      <td>...</td>\n",
       "    </tr>\n",
       "    <tr>\n",
       "      <th>2023-12-31 19:00:00</th>\n",
       "      <td>8.408242</td>\n",
       "      <td>8.407823</td>\n",
       "      <td>4.883450</td>\n",
       "      <td>5.434127</td>\n",
       "      <td>280.539006</td>\n",
       "      <td>52.757118</td>\n",
       "      <td>0.193097</td>\n",
       "    </tr>\n",
       "    <tr>\n",
       "      <th>2023-12-31 20:00:00</th>\n",
       "      <td>8.962347</td>\n",
       "      <td>7.840876</td>\n",
       "      <td>5.276976</td>\n",
       "      <td>5.170452</td>\n",
       "      <td>280.355277</td>\n",
       "      <td>52.757118</td>\n",
       "      <td>0.193097</td>\n",
       "    </tr>\n",
       "    <tr>\n",
       "      <th>2023-12-31 21:00:00</th>\n",
       "      <td>9.418240</td>\n",
       "      <td>7.251688</td>\n",
       "      <td>5.612800</td>\n",
       "      <td>4.835192</td>\n",
       "      <td>280.219222</td>\n",
       "      <td>52.757118</td>\n",
       "      <td>0.193097</td>\n",
       "    </tr>\n",
       "    <tr>\n",
       "      <th>2023-12-31 22:00:00</th>\n",
       "      <td>9.261572</td>\n",
       "      <td>6.662980</td>\n",
       "      <td>5.361594</td>\n",
       "      <td>4.413719</td>\n",
       "      <td>280.664018</td>\n",
       "      <td>52.757118</td>\n",
       "      <td>0.193097</td>\n",
       "    </tr>\n",
       "    <tr>\n",
       "      <th>2023-12-31 23:00:00</th>\n",
       "      <td>9.516709</td>\n",
       "      <td>6.124725</td>\n",
       "      <td>5.552171</td>\n",
       "      <td>4.082940</td>\n",
       "      <td>281.048751</td>\n",
       "      <td>52.757118</td>\n",
       "      <td>0.193097</td>\n",
       "    </tr>\n",
       "  </tbody>\n",
       "</table>\n",
       "<p>77727480 rows × 7 columns</p>\n",
       "</div>"
      ],
      "text/plain": [
       "                         u100      v100       u10       v10         t2m  \\\n",
       "time                                                                      \n",
       "2023-01-01 00:00:00 -6.124319 -3.505972 -3.560769 -2.348238  276.145746   \n",
       "2023-01-01 01:00:00 -6.742890 -2.875081 -3.877618 -1.970390  276.423940   \n",
       "2023-01-01 02:00:00 -7.046638 -2.222430 -4.302080 -1.537414  276.582922   \n",
       "2023-01-01 03:00:00 -6.909157 -2.214752 -4.244857 -1.446608  276.669096   \n",
       "2023-01-01 04:00:00 -6.288494 -1.625808 -3.841061 -1.031566  276.455792   \n",
       "...                       ...       ...       ...       ...         ...   \n",
       "2023-12-31 19:00:00  8.408242  8.407823  4.883450  5.434127  280.539006   \n",
       "2023-12-31 20:00:00  8.962347  7.840876  5.276976  5.170452  280.355277   \n",
       "2023-12-31 21:00:00  9.418240  7.251688  5.612800  4.835192  280.219222   \n",
       "2023-12-31 22:00:00  9.261572  6.662980  5.361594  4.413719  280.664018   \n",
       "2023-12-31 23:00:00  9.516709  6.124725  5.552171  4.082940  281.048751   \n",
       "\n",
       "                      latitude  longitude  \n",
       "time                                       \n",
       "2023-01-01 00:00:00  55.847396  -3.059807  \n",
       "2023-01-01 01:00:00  55.847396  -3.059807  \n",
       "2023-01-01 02:00:00  55.847396  -3.059807  \n",
       "2023-01-01 03:00:00  55.847396  -3.059807  \n",
       "2023-01-01 04:00:00  55.847396  -3.059807  \n",
       "...                        ...        ...  \n",
       "2023-12-31 19:00:00  52.757118   0.193097  \n",
       "2023-12-31 20:00:00  52.757118   0.193097  \n",
       "2023-12-31 21:00:00  52.757118   0.193097  \n",
       "2023-12-31 22:00:00  52.757118   0.193097  \n",
       "2023-12-31 23:00:00  52.757118   0.193097  \n",
       "\n",
       "[77727480 rows x 7 columns]"
      ]
     },
     "execution_count": 13,
     "metadata": {},
     "output_type": "execute_result"
    }
   ],
   "source": [
    "file_path = '../data/adaptor.mars.internal-1719939154.2515023-12402-17-21cabed0-514d-4aea-b596-2fd3ec3e2e9d.nc'\n",
    "ds = xr.open_dataset(file_path)\n",
    "\n",
    "concat_dfs = []\n",
    "\n",
    "for _, (lat, lon) in tqdm(df[['latitude', 'longitude']].iterrows()):\n",
    "    concat_dfs.append(\n",
    "        ds\n",
    "        .interp(latitude=lat, longitude=lon)\n",
    "        .to_dataframe()\n",
    "        .reset_index()\n",
    "        .set_index('time')\n",
    "    )\n",
    "\n",
    "df_generator_weather = pd.concat(concat_dfs)\n",
    "\n",
    "df_generator_weather"
   ]
  },
  {
   "cell_type": "code",
   "execution_count": null,
   "metadata": {},
   "outputs": [],
   "source": []
  },
  {
   "cell_type": "code",
   "execution_count": 17,
   "metadata": {},
   "outputs": [],
   "source": [
    "with Session(engine) as session:\n",
    "    SQLModel.metadata.create_all(engine, tables=[ERA5Derived.__table__])\n",
    "    bulk_upsert_records(session, df_generator_weather, ERA5Derived)"
   ]
  },
  {
   "cell_type": "code",
   "execution_count": null,
   "metadata": {},
   "outputs": [],
   "source": []
  }
 ],
 "metadata": {
  "kernelspec": {
   "display_name": "matched-cC5ouqpo-py3.12",
   "language": "python",
   "name": "python3"
  },
  "language_info": {
   "codemirror_mode": {
    "name": "ipython",
    "version": 3
   },
   "file_extension": ".py",
   "mimetype": "text/x-python",
   "name": "python",
   "nbconvert_exporter": "python",
   "pygments_lexer": "ipython3",
   "version": "3.12.3"
  }
 },
 "nbformat": 4,
 "nbformat_minor": 2
}
